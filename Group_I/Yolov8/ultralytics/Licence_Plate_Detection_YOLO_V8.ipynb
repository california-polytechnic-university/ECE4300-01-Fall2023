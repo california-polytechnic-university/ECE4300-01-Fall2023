version https://git-lfs.github.com/spec/v1
oid sha256:6367773ab46769e0db487db1650661a65683de77bbfa6f2a9dbcadfb7afe83c6
size 161865
