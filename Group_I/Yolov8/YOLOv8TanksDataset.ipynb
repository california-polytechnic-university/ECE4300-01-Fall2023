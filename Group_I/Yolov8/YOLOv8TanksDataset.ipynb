version https://git-lfs.github.com/spec/v1
oid sha256:0c7d46ade42e54dea1fa7cc9b26d2a0859d553bd8fa767668a2264ef71d7b7c2
size 87303
